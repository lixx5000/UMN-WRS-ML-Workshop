{
 "cells": [
  {
   "cell_type": "code",
   "execution_count": 14,
   "id": "5c193a48",
   "metadata": {},
   "outputs": [],
   "source": [
    "import pandas as pd\n",
    "from tensorflow.keras import Input\n",
    "from tensorflow.keras.models import Sequential\n",
    "from tensorflow.keras.layers import Dense\n",
    "from tensorflow.keras.layers import Conv2D\n",
    "from tensorflow.keras.layers import MaxPooling2D\n",
    "from tensorflow.keras.layers import Flatten\n",
    "from tensorflow.keras.optimizers import SGD\n",
    "from tensorflow.keras.optimizers import Adam\n",
    "from tensorflow.keras.utils import to_categorical\n",
    "from tensorflow.keras import datasets\n",
    "from typing import Dict, List, Tuple\n",
    "from random import random\n",
    "import matplotlib.pyplot as plt\n",
    "from matplotlib import gridspec\n",
    "import numpy as np"
   ]
  },
  {
   "cell_type": "markdown",
   "id": "e5f1799e",
   "metadata": {},
   "source": [
    "## Convolutional neural network\n",
    "Instead of leverage temporal information for prediction, we'll exploit the spatial information and how can machine learning techniques be implemented to solve spatial information related preoblems. Let's look at the image classification problem. We'll start from a handwritten digit dataset called 'mnist'. This dataset contains handwritten digits images. It is also a well known dataset in machine learning community just like the iris dataset. It is an image classification benchmark dataset. \n",
    "\n",
    "We could load it easily from keras datasets module. "
   ]
  },
  {
   "cell_type": "code",
   "execution_count": 15,
   "id": "16fb9f57",
   "metadata": {},
   "outputs": [],
   "source": [
    "(X_train, y_train), (X_test, y_test) = datasets.mnist.load_data()  # it is originally ordered from 0 to 9. \n",
    "np.random.seed(121) # let's shuffle it. 121 is a seed number, this number will remember the shuffling order such that we won't get lost later. \n",
    "np.random.shuffle(X_train)\n",
    "np.random.seed(121)\n",
    "np.random.shuffle(y_train)"
   ]
  },
  {
   "cell_type": "markdown",
   "id": "dd678422",
   "metadata": {},
   "source": [
    "Let's visually look at some data. "
   ]
  },
  {
   "cell_type": "code",
   "execution_count": 16,
   "id": "56634b39",
   "metadata": {},
   "outputs": [
    {
     "data": {
      "text/plain": [
       "array([7, 4, 1, ..., 1, 9, 8], dtype=uint8)"
      ]
     },
     "execution_count": 16,
     "metadata": {},
     "output_type": "execute_result"
    }
   ],
   "source": [
    "y_train"
   ]
  },
  {
   "cell_type": "code",
   "execution_count": 17,
   "id": "84c62ae3",
   "metadata": {},
   "outputs": [
    {
     "data": {
      "text/plain": [
       "Text(0.5, 1.0, '6')"
      ]
     },
     "execution_count": 17,
     "metadata": {},
     "output_type": "execute_result"
    },
    {
     "data": {
      "image/png": "[encoded data removed]",
      "text/plain": [
       "<Figure size 432x288 with 1 Axes>"
      ]
     },
     "metadata": {
      "needs_background": "light"
     },
     "output_type": "display_data"
    }
   ],
   "source": [
    "plot_ind = 140\n",
    "plt.imshow(X_train[plot_ind], cmap = 'gray')\n",
    "plt.title(str(y_train[plot_ind]))"
   ]
  },
  {
   "cell_type": "code",
   "execution_count": 20,
   "id": "8543a184",
   "metadata": {},
   "outputs": [
    {
     "data": {
      "text/plain": [
       "array([[  0,   0,   0,   0,   0,   0,   0,   0,   0,   0,   0,   0,   0,\n",
       "          0,   0,   0,   0,   0,   0,   0,   0,   0,   0,   0,   0,   0,\n",
       "          0,   0],\n",
       "       [  0,   0,   0,   0,   0,   0,   0,   0,   0,   0,   0,   0,   0,\n",
       "          0,   0,   0,   0,   0,   0,   0,   0,   0,   0,   0,   0,   0,\n",
       "          0,   0],\n",
       "       [  0,   0,   0,   0,   0,   0,   0,   0,   0,   0,   0,   0,   0,\n",
       "          0,   0,   0,   0,  70, 253, 226,   0,   0,   0,   0,   0,   0,\n",
       "          0,   0],\n",
       "       [  0,   0,   0,   0,   0,   0,   0,   0,   0,   0,   0,   0,   0,\n",
       "          0,   0,   0,  14, 235, 254, 208,   0,   0,   0,   0,   0,   0,\n",
       "          0,   0],\n",
       "       [  0,   0,   0,   0,   0,   0,   0,   0,   0,   0,   0,   0,   0,\n",
       "          0,   0,  53, 203, 254, 221,  35,   0,   0,   0,   0,   0,   0,\n",
       "          0,   0],\n",
       "       [  0,   0,   0,   0,   0,   0,   0,   0,   0,   0,   0,   0,   0,\n",
       "          0,  51, 182, 254, 223,  34,   0,   0,   0,   0,   0,   0,   0,\n",
       "          0,   0],\n",
       "       [  0,   0,   0,   0,   0,   0,   0,   0,   0,   0,   0,   0,   0,\n",
       "         76, 241, 254, 254,  45,   0,   0,   0,   0,   0,   0,   0,   0,\n",
       "          0,   0],\n",
       "       [  0,   0,   0,   0,   0,   0,   0,   0,   0,   0,   0,   0,  22,\n",
       "        244, 254, 254, 121,   3,   0,   0,   0,   0,   0,   0,   0,   0,\n",
       "          0,   0],\n",
       "       [  0,   0,   0,   0,   0,   0,   0,   0,   0,   0,   0,   6, 192,\n",
       "        254, 253, 121,   2,   0,   0,   0,   0,   0,   0,   0,   0,   0,\n",
       "          0,   0],\n",
       "       [  0,   0,   0,   0,   0,   0,   0,   0,   0,   0,   0, 191, 254,\n",
       "        254, 128,   0,   0,   0,   0,   0,   0,   0,   0,   0,   0,   0,\n",
       "          0,   0],\n",
       "       [  0,   0,   0,   0,   0,   0,   0,   0,   0,   0, 142, 251, 254,\n",
       "        209,  29,   0,   0,   0,   0,   0,   0,   0,   0,   0,   0,   0,\n",
       "          0,   0],\n",
       "       [  0,   0,   0,   0,   0,   0,   0,   0,   0,  63, 246, 254, 210,\n",
       "         29,   0,   0,   0,   0,   0,   0,   0,   0,   0,   0,   0,   0,\n",
       "          0,   0],\n",
       "       [  0,   0,   0,   0,   0,   0,   0,   0,  22, 195, 254, 253,  78,\n",
       "          0,  55, 114, 196, 196, 196, 182,  27,   0,   0,   0,   0,   0,\n",
       "          0,   0],\n",
       "       [  0,   0,   0,   0,   0,   0,   0,   0,  72, 254, 254, 151, 107,\n",
       "        214, 242, 254, 255, 254, 254, 254, 228,  60,   0,   0,   0,   0,\n",
       "          0,   0],\n",
       "       [  0,   0,   0,   0,   0,   0,   0,   0,  72, 254, 254, 244, 254,\n",
       "        254, 254, 254, 159, 194, 141, 207, 254,  71,   0,   0,   0,   0,\n",
       "          0,   0],\n",
       "       [  0,   0,   0,   0,   0,   0,   0,   0, 132, 254, 254, 254, 253,\n",
       "        167,  41,   5,   1,   3,   0,  38, 254,  71,   0,   0,   0,   0,\n",
       "          0,   0],\n",
       "       [  0,   0,   0,   0,   0,   0,   0,   0, 122, 254, 254, 254, 148,\n",
       "          0,   0,   0,   0,   0,   2, 161, 254,  71,   0,   0,   0,   0,\n",
       "          0,   0],\n",
       "       [  0,   0,   0,   0,   0,   0,   0,   0,  72, 254, 254, 171,   0,\n",
       "          0,   0,   0,   0,   0,  90, 254, 254,  71,   0,   0,   0,   0,\n",
       "          0,   0],\n",
       "       [  0,   0,   0,   0,   0,   0,   0,   0,  72, 254, 254, 160,   0,\n",
       "          0,   0,   0,  25,  66, 218, 254, 189,  20,   0,   0,   0,   0,\n",
       "          0,   0],\n",
       "       [  0,   0,   0,   0,   0,   0,   0,   0,  72, 254, 254, 253, 202,\n",
       "        202, 120, 175, 222, 254, 254, 192,  19,   0,   0,   0,   0,   0,\n",
       "          0,   0],\n",
       "       [  0,   0,   0,   0,   0,   0,   0,   0,  10, 167, 254, 254, 254,\n",
       "        254, 254, 254, 254, 254, 150,  15,   0,   0,   0,   0,   0,   0,\n",
       "          0,   0],\n",
       "       [  0,   0,   0,   0,   0,   0,   0,   0,   0,  48, 241, 254, 254,\n",
       "        254, 254, 254, 154,  28,   1,   0,   0,   0,   0,   0,   0,   0,\n",
       "          0,   0],\n",
       "       [  0,   0,   0,   0,   0,   0,   0,   0,   0,   0,   0,   0,   0,\n",
       "          0,   0,   0,   0,   0,   0,   0,   0,   0,   0,   0,   0,   0,\n",
       "          0,   0],\n",
       "       [  0,   0,   0,   0,   0,   0,   0,   0,   0,   0,   0,   0,   0,\n",
       "          0,   0,   0,   0,   0,   0,   0,   0,   0,   0,   0,   0,   0,\n",
       "          0,   0],\n",
       "       [  0,   0,   0,   0,   0,   0,   0,   0,   0,   0,   0,   0,   0,\n",
       "          0,   0,   0,   0,   0,   0,   0,   0,   0,   0,   0,   0,   0,\n",
       "          0,   0],\n",
       "       [  0,   0,   0,   0,   0,   0,   0,   0,   0,   0,   0,   0,   0,\n",
       "          0,   0,   0,   0,   0,   0,   0,   0,   0,   0,   0,   0,   0,\n",
       "          0,   0],\n",
       "       [  0,   0,   0,   0,   0,   0,   0,   0,   0,   0,   0,   0,   0,\n",
       "          0,   0,   0,   0,   0,   0,   0,   0,   0,   0,   0,   0,   0,\n",
       "          0,   0],\n",
       "       [  0,   0,   0,   0,   0,   0,   0,   0,   0,   0,   0,   0,   0,\n",
       "          0,   0,   0,   0,   0,   0,   0,   0,   0,   0,   0,   0,   0,\n",
       "          0,   0]], dtype=uint8)"
      ]
     },
     "execution_count": 20,
     "metadata": {},
     "output_type": "execute_result"
    }
   ],
   "source": [
    "X_train[140]"
   ]
  },
  {
   "cell_type": "markdown",
   "id": "52093d42",
   "metadata": {},
   "source": [
    "We'll split the dataset into training and testing dataset. To avoid scale issues that might make training hard, we'll scale each image to a range between [0, 1]. Image pixels' values are between 0 and 255, so we'll only need to divide it by 255. "
   ]
  },
  {
   "cell_type": "code",
   "execution_count": 21,
   "id": "ff1f5ae5",
   "metadata": {},
   "outputs": [],
   "source": [
    "X_train = np.expand_dims(X_train, -1)  # add one additional dimension (color band, although we're just 1d, it becomes a tradition to store image data like that)\n",
    "X_test = np.expand_dims(X_test, -1)\n",
    "X_train = X_train.astype('float32') / 255  # normalize the data. \n",
    "X_test = X_test.astype('float32') / 255 # normalize the data. "
   ]
  },
  {
   "cell_type": "markdown",
   "id": "579494de",
   "metadata": {},
   "source": [
    "we'll now construct a CNN model. We'll explain what those parameter means in the lecture. "
   ]
  },
  {
   "cell_type": "code",
   "execution_count": 22,
   "id": "ca4dd0d6",
   "metadata": {},
   "outputs": [],
   "source": [
    "model = Sequential(\n",
    "[\n",
    "    Input(shape = (28, 28, 1)),  # input data shape\n",
    "    Conv2D(32, kernel_size=(3,3), activation='relu'),  # convolutional layer, specify the kernal size. \n",
    "    MaxPooling2D(pool_size=(2,2)),  # pooling function, no parameters involved. \n",
    "    Conv2D(64, kernel_size=(3,3), activation='relu'), # 2nd convolution layer\n",
    "    MaxPooling2D(pool_size=(2,2)), # pooling operation, no parameters involved. \n",
    "    Flatten(), # faltten the multiple dimension feature space into 1d\n",
    "    Dense(10, activation='softmax'),     # fully connected layer with a softmax activation function. \n",
    "])"
   ]
  },
  {
   "cell_type": "code",
   "execution_count": 23,
   "id": "ea077468",
   "metadata": {},
   "outputs": [
    {
     "name": "stdout",
     "output_type": "stream",
     "text": [
      "Model: \"sequential_1\"\n",
      "_________________________________________________________________\n",
      "Layer (type)                 Output Shape              Param #   \n",
      "=================================================================\n",
      "conv2d_2 (Conv2D)            (None, 26, 26, 32)        320       \n",
      "_________________________________________________________________\n",
      "max_pooling2d_2 (MaxPooling2 (None, 13, 13, 32)        0         \n",
      "_________________________________________________________________\n",
      "conv2d_3 (Conv2D)            (None, 11, 11, 64)        18496     \n",
      "_________________________________________________________________\n",
      "max_pooling2d_3 (MaxPooling2 (None, 5, 5, 64)          0         \n",
      "_________________________________________________________________\n",
      "flatten_1 (Flatten)          (None, 1600)              0         \n",
      "_________________________________________________________________\n",
      "dense_1 (Dense)              (None, 10)                16010     \n",
      "=================================================================\n",
      "Total params: 34,826\n",
      "Trainable params: 34,826\n",
      "Non-trainable params: 0\n",
      "_________________________________________________________________\n"
     ]
    }
   ],
   "source": [
    "model.summary()"
   ]
  },
  {
   "cell_type": "code",
   "execution_count": 24,
   "id": "94d361ac",
   "metadata": {},
   "outputs": [
    {
     "data": {
      "text/plain": [
       "(60000, 28, 28, 1)"
      ]
     },
     "execution_count": 24,
     "metadata": {},
     "output_type": "execute_result"
    }
   ],
   "source": [
    "X_train.shape"
   ]
  },
  {
   "cell_type": "code",
   "execution_count": 25,
   "id": "0b26ffe7",
   "metadata": {},
   "outputs": [
    {
     "data": {
      "text/plain": [
       "array([[0., 0., 0., ..., 1., 0., 0.],\n",
       "       [0., 0., 0., ..., 0., 0., 0.],\n",
       "       [0., 1., 0., ..., 0., 0., 0.],\n",
       "       ...,\n",
       "       [0., 0., 0., ..., 0., 0., 0.],\n",
       "       [0., 0., 1., ..., 0., 0., 0.],\n",
       "       [0., 0., 0., ..., 0., 0., 0.]], dtype=float32)"
      ]
     },
     "execution_count": 25,
     "metadata": {},
     "output_type": "execute_result"
    }
   ],
   "source": [
    "to_categorical(y_train[0:global_settings['train_size']])"
   ]
  },
  {
   "cell_type": "code",
   "execution_count": 27,
   "id": "ef725fcf",
   "metadata": {},
   "outputs": [
    {
     "name": "stdout",
     "output_type": "stream",
     "text": [
      "Epoch 1/10\n",
      "47/47 [==============================] - 6s 138ms/step - loss: 0.0509 - accuracy: 0.6618 - val_loss: 0.0179 - val_accuracy: 0.8857\n",
      "Epoch 2/10\n",
      "47/47 [==============================] - 7s 148ms/step - loss: 0.0148 - accuracy: 0.9012 - val_loss: 0.0116 - val_accuracy: 0.9267\n",
      "Epoch 3/10\n",
      "47/47 [==============================] - 6s 138ms/step - loss: 0.0100 - accuracy: 0.9368 - val_loss: 0.0077 - val_accuracy: 0.9506\n",
      "Epoch 4/10\n",
      "47/47 [==============================] - 7s 141ms/step - loss: 0.0076 - accuracy: 0.9545 - val_loss: 0.0068 - val_accuracy: 0.9578\n",
      "Epoch 5/10\n",
      "47/47 [==============================] - 7s 138ms/step - loss: 0.0060 - accuracy: 0.9637 - val_loss: 0.0056 - val_accuracy: 0.9631\n",
      "Epoch 6/10\n",
      "47/47 [==============================] - 6s 133ms/step - loss: 0.0052 - accuracy: 0.9682 - val_loss: 0.0054 - val_accuracy: 0.9654\n",
      "Epoch 7/10\n",
      "47/47 [==============================] - 6s 127ms/step - loss: 0.0045 - accuracy: 0.9728 - val_loss: 0.0047 - val_accuracy: 0.9696\n",
      "Epoch 8/10\n",
      "47/47 [==============================] - 6s 134ms/step - loss: 0.0041 - accuracy: 0.9760 - val_loss: 0.0048 - val_accuracy: 0.9683\n",
      "Epoch 9/10\n",
      "47/47 [==============================] - 6s 134ms/step - loss: 0.0034 - accuracy: 0.9817 - val_loss: 0.0047 - val_accuracy: 0.9691\n",
      "Epoch 10/10\n",
      "47/47 [==============================] - 6s 130ms/step - loss: 0.0031 - accuracy: 0.9830 - val_loss: 0.0041 - val_accuracy: 0.9739\n"
     ]
    }
   ],
   "source": [
    "global_settings={\n",
    "    'lr':.001,\n",
    "    'batch':128,\n",
    "    'train_size': 6000,  # to speed up the training, we might want use only a portion for illustration purposes. \n",
    "    'epoch': 10\n",
    "}\n",
    "\n",
    "opt=Adam(learning_rate = global_settings['lr'])\n",
    "model.compile(loss='mean_squared_error', optimizer=opt, metrics=['accuracy'])\n",
    "\n",
    "history = model.fit(X_train[0:global_settings['train_size'],:,:,:], \n",
    "          to_categorical(y_train[0:global_settings['train_size']]),  # remember the ont hot encoding operation? It is good for classification as labels become numeric instead of categorical.\n",
    "          validation_data=(X_test, to_categorical(y_test)),\n",
    "         batch_size=global_settings['batch'], \n",
    "         epochs=global_settings['epoch'])"
   ]
  },
  {
   "cell_type": "markdown",
   "id": "d1962440",
   "metadata": {},
   "source": [
    "plot the loss function to see how the training process proceeds. "
   ]
  },
  {
   "cell_type": "code",
   "execution_count": 28,
   "id": "e457580b",
   "metadata": {},
   "outputs": [
    {
     "data": {
      "text/plain": [
       "<matplotlib.legend.Legend at 0x1fd81929d30>"
      ]
     },
     "execution_count": 28,
     "metadata": {},
     "output_type": "execute_result"
    },
    {
     "data": {
      "image/png": "[encoded data removed]",
      "text/plain": [
       "<Figure size 432x288 with 1 Axes>"
      ]
     },
     "metadata": {
      "needs_background": "light"
     },
     "output_type": "display_data"
    }
   ],
   "source": [
    "plt.plot(history.history['loss'], label = 'training')\n",
    "plt.plot(history.history['val_loss'], label = 'validation')\n",
    "plt.legend()"
   ]
  },
  {
   "cell_type": "markdown",
   "id": "8e658747",
   "metadata": {},
   "source": [
    "The CNN we just trained reaches to a 98% accuracy in testing data!"
   ]
  },
  {
   "cell_type": "code",
   "execution_count": 29,
   "id": "4e8ade81",
   "metadata": {},
   "outputs": [
    {
     "name": "stdout",
     "output_type": "stream",
     "text": [
      "313/313 [==============================] - 3s 8ms/step - loss: 0.0041 - accuracy: 0.9739\n"
     ]
    },
    {
     "data": {
      "text/plain": [
       "[0.004066603258252144, 0.9739000201225281]"
      ]
     },
     "execution_count": 29,
     "metadata": {},
     "output_type": "execute_result"
    }
   ],
   "source": [
    "model.evaluate(X_test, to_categorical(y_test))"
   ]
  },
  {
   "cell_type": "code",
   "execution_count": 31,
   "id": "d600380a",
   "metadata": {
    "scrolled": true
   },
   "outputs": [
    {
     "name": "stdout",
     "output_type": "stream",
     "text": [
      "[[8.1437058e-08 2.3411579e-09 7.1753482e-07 1.0002849e-05 1.3254227e-03\n",
      "  1.8123767e-04 2.6847269e-07 1.5535453e-04 7.1082445e-04 9.9761617e-01]]\n",
      "9\n"
     ]
    },
    {
     "data": {
      "text/plain": [
       "<matplotlib.image.AxesImage at 0x1fd81b3c340>"
      ]
     },
     "execution_count": 31,
     "metadata": {},
     "output_type": "execute_result"
    },
    {
     "data": {
      "image/png": "[encoded data removed]",
      "text/plain": [
       "<Figure size 432x288 with 1 Axes>"
      ]
     },
     "metadata": {
      "needs_background": "light"
     },
     "output_type": "display_data"
    }
   ],
   "source": [
    "ind = 150\n",
    "print (model.predict(X_test[[ind],:,:,:]))\n",
    "print (y_test[ind])\n",
    "plt.imshow(X_test[ind], cmap='gray')"
   ]
  }
 ],
 "metadata": {
  "kernelspec": {
   "display_name": "Python 3",
   "language": "python",
   "name": "python3"
  },
  "language_info": {
   "codemirror_mode": {
    "name": "ipython",
    "version": 3
   },
   "file_extension": ".py",
   "mimetype": "text/x-python",
   "name": "python",
   "nbconvert_exporter": "python",
   "pygments_lexer": "ipython3",
   "version": "3.8.8"
  }
 },
 "nbformat": 4,
 "nbformat_minor": 5
}
